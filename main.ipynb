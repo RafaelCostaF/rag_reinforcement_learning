{
 "cells": [
  {
   "cell_type": "code",
   "execution_count": 43,
   "metadata": {},
   "outputs": [],
   "source": [
    "from Functions.documents import load_documents\n",
    "from Functions.text import clear_text, remove_stopwords, split_text_into_chunks, remove_portuguese_accents\n",
    "\n",
    "\n",
    "\n",
    "DOCUMENT_PATHS = [\"./Documents/a (1).pdf\", \"./Documents/FAQ (1).pdf\"]\n",
    "CHUNK_SIZE = 500\n",
    "\n",
    "\n",
    "\n",
    "# BEGIN = Processing documents \n",
    "texts = load_documents(DOCUMENT_PATHS)\n",
    "cleaned_texts = [clear_text(text) for text in texts]\n",
    "no_stopwords_text = [remove_stopwords(text) for text in cleaned_texts]\n",
    "no_accents_portuguese = [remove_portuguese_accents(text) for text in no_stopwords_text]\n",
    "joined_texts = \" \".join(no_accents_portuguese)\n",
    "joined_texts = joined_texts.lower()\n",
    "text_chunks = split_text_into_chunks(joined_texts, chunk_size=CHUNK_SIZE)\n",
    "# END = Processing documents \n"
   ]
  },
  {
   "cell_type": "code",
   "execution_count": null,
   "metadata": {},
   "outputs": [],
   "source": [
    "len(text_chunks)"
   ]
  },
  {
   "cell_type": "code",
   "execution_count": null,
   "metadata": {},
   "outputs": [],
   "source": [
    "len(text_chunks[0])"
   ]
  },
  {
   "cell_type": "code",
   "execution_count": null,
   "metadata": {},
   "outputs": [],
   "source": [
    "from sentence_transformers import SentenceTransformer, util\n"
   ]
  },
  {
   "cell_type": "markdown",
   "metadata": {},
   "source": [
    "import gym\n",
    "import numpy as np\n",
    "from gym import spaces\n",
    "from sentence_transformers import SentenceTransformer, util\n",
    "from Functions.documents import load_documents\n",
    "from Functions.text import clear_text, remove_stopwords, split_text_into_chunks"
   ]
  },
  {
   "cell_type": "code",
   "execution_count": null,
   "metadata": {},
   "outputs": [],
   "source": [
    "model = SentenceTransformer(\"all-MiniLM-L6-v2\")"
   ]
  },
  {
   "cell_type": "code",
   "execution_count": 10,
   "metadata": {},
   "outputs": [],
   "source": [
    "encoded = model.encode(text_chunks[0])"
   ]
  },
  {
   "cell_type": "code",
   "execution_count": 11,
   "metadata": {},
   "outputs": [],
   "source": [
    "not_encoded = text_chunks[0]"
   ]
  },
  {
   "cell_type": "code",
   "execution_count": null,
   "metadata": {},
   "outputs": [],
   "source": [
    "len(encoded)"
   ]
  },
  {
   "cell_type": "code",
   "execution_count": null,
   "metadata": {},
   "outputs": [],
   "source": [
    "len(not_encoded)"
   ]
  },
  {
   "cell_type": "code",
   "execution_count": 14,
   "metadata": {},
   "outputs": [],
   "source": [
    "document_embeddings = [model.encode(chunk) for chunk in text_chunks] "
   ]
  },
  {
   "cell_type": "code",
   "execution_count": 22,
   "metadata": {},
   "outputs": [],
   "source": [
    "question_embedding = model.encode(\"Como e quando posso realizar o trancamento de matrícula?\")"
   ]
  },
  {
   "cell_type": "code",
   "execution_count": null,
   "metadata": {},
   "outputs": [],
   "source": [
    "from sentence_transformers import util\n",
    "\n",
    "# Compute cosine similarity between the question and all document chunks\n",
    "cosine_similarities = [util.pytorch_cos_sim(question_embedding, doc_emb).item() for doc_emb in document_embeddings]\n",
    "\n",
    "# Convert cosine similarity to a distance measure (1 - similarity)\n",
    "cosine_distances = [1 - sim for sim in cosine_similarities]\n",
    "\n",
    "print(cosine_distances)  # List of distances (lower means more similar)"
   ]
  },
  {
   "cell_type": "code",
   "execution_count": null,
   "metadata": {},
   "outputs": [],
   "source": [
    "# Find the index of the most similar (highest similarity) and least similar (lowest similarity) document chunks\n",
    "max_index = max(range(len(cosine_similarities)), key=lambda i: cosine_similarities[i])\n",
    "min_index = min(range(len(cosine_similarities)), key=lambda i: cosine_similarities[i])\n",
    "\n",
    "print(f\"Most relevant document chunk index: {max_index} (Score: {cosine_similarities[max_index]})\")\n",
    "print(f\"Least relevant document chunk index: {min_index} (Score: {cosine_similarities[min_index]})\")\n"
   ]
  },
  {
   "cell_type": "code",
   "execution_count": null,
   "metadata": {},
   "outputs": [],
   "source": [
    "print(text_chunks[2])"
   ]
  },
  {
   "cell_type": "code",
   "execution_count": null,
   "metadata": {},
   "outputs": [],
   "source": [
    "import textdistance\n",
    "# https://github.com/life4/textdistance?tab=readme-ov-file\n",
    "\n",
    "f1 = \"o carro está andando\"\n",
    "# f2 = \"o ônibus está em movimento\"\n",
    "f2 = \"o ônibus andando\"\n",
    "print(\"monge: \",textdistance.monge_elkan(f1,f2))\n",
    "print(\"cosine: \",textdistance.cosine(f1,f2))\n",
    "print(\"hamming: \",textdistance.hamming.normalized_similarity(f1,f2))"
   ]
  },
  {
   "cell_type": "code",
   "execution_count": null,
   "metadata": {},
   "outputs": [],
   "source": []
  },
  {
   "cell_type": "code",
   "execution_count": null,
   "metadata": {},
   "outputs": [],
   "source": []
  },
  {
   "cell_type": "code",
   "execution_count": null,
   "metadata": {},
   "outputs": [],
   "source": []
  },
  {
   "cell_type": "code",
   "execution_count": null,
   "metadata": {},
   "outputs": [],
   "source": [
    "\n",
    "# Compute cosine similarity between the question and all document chunks\n",
    "cosine_similarities = [util.pytorch_cos_sim(self.query_embedding, doc_emb).item() for doc_emb in self.document_embeddings]\n",
    "\n",
    "# Convert cosine similarity to a distance measure (1 - similarity)\n",
    "cosine_distances = [1 - sim for sim in cosine_similarities]\n",
    "\n",
    "self.similarities = np.array(cosine_distances.copy())"
   ]
  },
  {
   "cell_type": "code",
   "execution_count": null,
   "metadata": {},
   "outputs": [],
   "source": []
  },
  {
   "cell_type": "code",
   "execution_count": 1,
   "metadata": {},
   "outputs": [],
   "source": [
    "# Testando ambiente separadamente "
   ]
  },
  {
   "cell_type": "code",
   "execution_count": null,
   "metadata": {},
   "outputs": [],
   "source": []
  },
  {
   "cell_type": "code",
   "execution_count": null,
   "metadata": {},
   "outputs": [],
   "source": [
    "# Initialize environment with wrapper\n",
    "def make_env():\n",
    "    env = RAGImprovementEnv()\n",
    "    env = QueryResetWrapper(env, text_chunks, queries)  # Wrap to pass new query in reset\n",
    "    return env\n",
    "\n",
    "env = gym.vector.SyncVectorEnv([make_env])  # Use SyncVectorEnv instead of DummyVecEnv\n"
   ]
  },
  {
   "cell_type": "code",
   "execution_count": 40,
   "metadata": {},
   "outputs": [],
   "source": [
    "from QueryResetWrapper import QueryResetWrapper\n",
    "\n",
    "# Initialize environment with wrapper\n",
    "def make_env():\n",
    "    env = RAGImprovementEnv()\n",
    "    env = QueryResetWrapper(env, text_chunks, queries)  # Wrap to pass new query in reset\n",
    "    return env\n",
    "\n",
    "env = gym.vector.SyncVectorEnv([make_env])  "
   ]
  },
  {
   "cell_type": "code",
   "execution_count": null,
   "metadata": {},
   "outputs": [],
   "source": [
    "env.reset()"
   ]
  },
  {
   "cell_type": "code",
   "execution_count": null,
   "metadata": {},
   "outputs": [],
   "source": []
  },
  {
   "cell_type": "code",
   "execution_count": null,
   "metadata": {},
   "outputs": [],
   "source": []
  },
  {
   "cell_type": "code",
   "execution_count": null,
   "metadata": {},
   "outputs": [],
   "source": [
    "import gymnasium as gym\n",
    "import numpy as np\n",
    "from gymnasium import spaces\n",
    "from sentence_transformers import SentenceTransformer, util\n",
    "\n",
    "model = SentenceTransformer(\"all-MiniLM-L6-v2\")\n",
    "\n",
    "text_chunks = ['chunk de teste 1', \"query de teste chunk\"]\n",
    "query = \"query de teste\"\n",
    "documents = text_chunks\n",
    "num_documents = len(documents)\n",
    "document_embeddings = np.array([model.encode(chunk) for chunk in documents])\n",
    "embedding_dim = document_embeddings.shape[1]\n"
   ]
  },
  {
   "cell_type": "code",
   "execution_count": 12,
   "metadata": {},
   "outputs": [],
   "source": [
    "\n",
    "# Update observation and action spaces dynamically\n",
    "observation_space = spaces.Dict({\n",
    "    \"document_embeddings\": spaces.Box(\n",
    "        low=-np.inf, high=np.inf, shape=(num_documents, embedding_dim), dtype=np.float32\n",
    "    ),\n",
    "    \"query_embedding\": spaces.Box(\n",
    "        low=-np.inf, high=np.inf, shape=(embedding_dim,), dtype=np.float32\n",
    "    ),\n",
    "    \"similarities\": spaces.Box(\n",
    "        low=0.0, high=1.0, shape=(num_documents,), dtype=np.float32\n",
    "    ),\n",
    "    \"retrieved_chunks_mask\": spaces.MultiBinary(num_documents)\n",
    "})\n",
    "action_space = spaces.Discrete(num_documents + 1)\n",
    "\n",
    "# Compute query embedding and similarities\n",
    "query_embedding = model.encode(query)\n",
    "similarities = np.array([\n",
    "    util.pytorch_cos_sim(query_embedding, doc_emb).item() for doc_emb in document_embeddings\n",
    "])"
   ]
  },
  {
   "cell_type": "code",
   "execution_count": null,
   "metadata": {},
   "outputs": [],
   "source": [
    "similarities"
   ]
  },
  {
   "cell_type": "code",
   "execution_count": null,
   "metadata": {},
   "outputs": [],
   "source": []
  },
  {
   "cell_type": "code",
   "execution_count": null,
   "metadata": {},
   "outputs": [],
   "source": []
  },
  {
   "cell_type": "code",
   "execution_count": 1,
   "metadata": {},
   "outputs": [],
   "source": [
    "# ---------------------------- Tests to solve Tensor with 4 elements on wrapper"
   ]
  },
  {
   "cell_type": "code",
   "execution_count": 1,
   "metadata": {},
   "outputs": [
    {
     "name": "stderr",
     "output_type": "stream",
     "text": [
      "[nltk_data] Downloading package stopwords to\n",
      "[nltk_data]     C:\\Users\\rafae\\AppData\\Roaming\\nltk_data...\n",
      "[nltk_data]   Package stopwords is already up-to-date!\n",
      "c:\\Users\\rafae\\AppData\\Local\\Programs\\Python\\Python311\\Lib\\site-packages\\sentence_transformers\\cross_encoder\\CrossEncoder.py:11: TqdmWarning: IProgress not found. Please update jupyter and ipywidgets. See https://ipywidgets.readthedocs.io/en/stable/user_install.html\n",
      "  from tqdm.autonotebook import tqdm, trange\n",
      "c:\\Users\\rafae\\AppData\\Local\\Programs\\Python\\Python311\\Lib\\site-packages\\transformers\\utils\\generic.py:441: UserWarning: torch.utils._pytree._register_pytree_node is deprecated. Please use torch.utils._pytree.register_pytree_node instead.\n",
      "  _torch_pytree._register_pytree_node(\n",
      "c:\\Users\\rafae\\AppData\\Local\\Programs\\Python\\Python311\\Lib\\site-packages\\transformers\\utils\\generic.py:309: UserWarning: torch.utils._pytree._register_pytree_node is deprecated. Please use torch.utils._pytree.register_pytree_node instead.\n",
      "  _torch_pytree._register_pytree_node(\n"
     ]
    }
   ],
   "source": [
    "from Functions.documents import load_documents\n",
    "from Functions.text import clear_text, remove_stopwords, split_text_into_chunks, remove_portuguese_accents\n",
    "from stable_baselines3 import PPO\n",
    "from RAGImprovementEnv import RAGImprovementEnv\n",
    "from QueryResetWrapper import QueryResetWrapper\n",
    "import pandas as pd\n",
    "import gymnasium as gym\n",
    "\n",
    "CHUNK_SIZE = 500\n",
    "\n",
    "# BEGIN = Setting texts and queries\n",
    "dataset = pd.read_parquet(\"./tests/dataset/Crag Splitted/crag_dataset_0.parquet\")  # Documents from dataset\n",
    "texts = dataset['page_result'].copy()\n",
    "queries = dataset['query'].copy()\n",
    "# END = Setting texts and queries\n",
    "\n",
    "# BEGIN = Processing documents \n",
    "cleaned_texts = [clear_text(text) for text in texts]\n",
    "no_stopwords_text = [remove_stopwords(text, language='english') for text in cleaned_texts]\n",
    "no_accents_portuguese = [remove_portuguese_accents(text) for text in no_stopwords_text]\n",
    "lower_texts = [text.lower() for text in no_accents_portuguese]\n",
    "text_chunks = [split_text_into_chunks(text, chunk_size=CHUNK_SIZE) for text in lower_texts]\n",
    "\n",
    "# END = Processing documents "
   ]
  },
  {
   "cell_type": "code",
   "execution_count": 2,
   "metadata": {},
   "outputs": [],
   "source": [
    "from QueryResetWrapper import QueryResetWrapper\n",
    "from RAGImprovementEnv import RAGImprovementEnv\n",
    "import gymnasium as gym\n",
    "\n",
    "# Initialize environment with wrapper\n",
    "def make_env():\n",
    "    env = RAGImprovementEnv()\n",
    "    env = QueryResetWrapper(env, queries, text_chunks)  # Wrap to pass new query in reset\n",
    "    return env\n",
    "\n",
    "# env = gym.vector.SyncVectorEnv([make_env])"
   ]
  },
  {
   "cell_type": "code",
   "execution_count": 3,
   "metadata": {},
   "outputs": [
    {
     "name": "stderr",
     "output_type": "stream",
     "text": [
      "c:\\Users\\rafae\\AppData\\Local\\Programs\\Python\\Python311\\Lib\\site-packages\\huggingface_hub\\file_download.py:797: FutureWarning: `resume_download` is deprecated and will be removed in version 1.0.0. Downloads always resume when possible. If you want to force a new download, use `force_download=True`.\n",
      "  warnings.warn(\n",
      "c:\\Users\\rafae\\AppData\\Local\\Programs\\Python\\Python311\\Lib\\site-packages\\transformers\\utils\\generic.py:309: UserWarning: torch.utils._pytree._register_pytree_node is deprecated. Please use torch.utils._pytree.register_pytree_node instead.\n",
      "  _torch_pytree._register_pytree_node(\n"
     ]
    }
   ],
   "source": [
    "env = make_env()"
   ]
  },
  {
   "cell_type": "code",
   "execution_count": 4,
   "metadata": {},
   "outputs": [
    {
     "name": "stdout",
     "output_type": "stream",
     "text": [
      "QUERY: ['new orleans pelicans 2023 24 nba regular season stats espn skip main content skip navigation espn nfl nfl nba nba ncaam ncaam ncaaw ncaaw nhl nhl soccer soccer sports sports espn plus espn bet watch watch fantasy fantasy espn espn search new orleans pelicans follow 39 26 1st southwest division home stats schedule roster depth injuries transactions tickets external link new orleans pelicans stats 2023 24 nba teams atlanta hawks boston celtics brooklyn nets charlotte hornets chicago bulls cleveland cavaliers dallas mavericks denver nuggets detroit pistons golden state warriors houston rockets indiana pacers la clippers los angeles lakers memphis grizzlies miami heat milwaukee bucks minnesota timberwolves new york knicks oklahoma city thunder orlando magic philadelphia 76ers phoenix suns portland trail blazers sacramento kings san antonio spurs toronto raptors utah jazz washington wizards hidden 2023 24 regular season 2022 23 regular season 2021 22 postseason 2021 22 regular season 2020 21 regular season 2019 20 regular season 2018 19 regular season 2017 18 postseason 2017 18 regular season 2016 17 regular season 2015 16 regular season 2014 15 postseason 2014 15 regular season 2013 14 regular season 2012 13 regular season 2011 12 regular season 2010 11 postseason 2010 11 regular season 2009 10 regular season 2008 09 postseason 2008 09 regular season 2007 08 postseason 2007 08 regular season 2006 07 regular season 2005 06 regular season 2004 05 regular season 2003 04 postseason 2003 04 regular season 2002 03 postseason 2002 03 regular season hidden splits home away boston celtics brooklyn nets new york knicks philadelphia 76ers toronto raptors chicago bulls cleveland cavaliers detroit pistons indiana pacers milwaukee bucks atlanta hawks charlotte hornets miami heat orlando magic washington wizards denver nuggets minnesota timberwolves oklahoma city thunder portland trail blazers utah jazz golden state warriors la clippers los angeles lakers phoenix suns sacramento kings dallas mavericks houston rockets memphis grizzlies new orleans pelicans san antonio spurs october november december january february march april atlantic division central division pacific division southeast division southwest division northwest division eastern conference western conference pre star post star 0 days rest 1 day rest 2 days rest 3 days rest hidden team leaders points zion williamson pf 22 3 rebounds jonas valanciunas c 9 5 assists brandon ingram sf 5 8 steals dyson daniels g 1 4 blocks jonas valanciunas c 1 0 player stats splits name zion williamson pf brandon ingram sf cj mccollum sg trey murphy iii sg jonas valanciunas c herbert jones sf jordan hawkins g matt ryan f naji marshall sf jose alvarado pg dyson daniels g larry nance jr pf izaiah brockington g jeremiah robinson earl f kira lewis jr pg dereon seabron g cody zeller c e j liddell f kaiser gates f jalen crutcher g total gp gs min pts dr reb ast stl blk pf ast 54 54 30 8 22 3 1 8 3 9 5 7 5 1 0 9 0 6 2 5 2 2 2 0 59 59 33 2 21 3 0', '7 4 4 5 1 5 8 0 8 0 6 2 6 2 3 2 2 49 49 31 2 18 3 0 6 3 7 4 3 4 3 1 0 0 7 1 6 2 0 2 8 40 10 27 2 13 9 0 6 3 5 4 2 1 9 0 8 0 5 0 5 1 3 3 8 65 65 24 8 13 0 2 6 6 9 9 5 2 2 0 4 1 0 1 4 2 8 1 6 60 60 29 3 11 1 1 1 2 5 3 6 2 5 1 3 0 9 1 2 2 9 2 1 56 10 19 3 9 0 0 5 2 0 2 5 1 2 0 3 0 1 0 7 1 2 1 7 20 1 17 7 7 4 0 3 1 7 2 0 0 8 0 3 0 1 0 9 1 5 0 9 53 1 19 0 7 2 0 9 2 7 3 6 2 0 0 7 0 2 1 1 1 4 1 9 44 0 17 3 6 9 0 4 1 8 2 2 2 0 1 1 0 3 0 8 1 4 2 6 52 15 21 9 5 5 1 0 2 7 3 7 2 6 1 4 0 4 1 0 1 6 2 6 47 0 18 7 5 3 1 4 3 6 5 1 1 6 1 0 0 4 0 9 1 5 1 9 1 0 3 0 4 0 1 0 1 0 2 0 0 0 0 0 0 0 0 0 0 0 0 0 28 1 9 5 3 4 0 6 1 5 2 1 0 5 0 3 0 1 0 4 0 6 1 1 15 0 9 6 2 9 0 3 0 7 0 9 1 2 0 3 0 1 0 5 0 5 2 3 6 0 9 2 2 3 0 2 1 0 1 2 0 8 0 3 0 2 0 0 0 7 inf 39 0 7 7 1 9 1 2 1 6 2 7 0 9 0 2 0 1 0 4 1 1 2 4 8 0 2 9 0 5 0 0 0 6 0 6 0 1 0 3 0 3 0 3 0 3 0 5 1 0 7 0 0 0 0 0 1 0 1 0 0 0 0 0 0 0 0 0 0 0 0 0 1 0 3 0 0 0 0 0 0 0 0 0 0 0 0 0 0 0 0 0 0 0 0 0 65 116 1 10 8 33 9 44 7 27 0 8 2 5 0 12 7 18 8 2 1 shooting stats splits name zion williamson pf brandon ingram sf cj mccollum sg trey murphy iii sg jonas valanciunas c herbert jones sf jordan hawkins g matt ryan f naji marshall', 'sf jose alvarado pg dyson daniels g larry nance jr pf izaiah brockington g jeremiah robinson earl f kira lewis jr pg dereon seabron g cody zeller c e j liddell f kaiser gates f jalen crutcher g total fgm fga fg 3pm 3pa 3p ftm fta ft 2pm 2pa 2p sc eff sh eff 8 8 15 2 57 8 0 1 0 3 35 7 4 7 6 7 69 7 8 7 14 9 58 2 1 471 0 58 7 9 16 1 49 3 1 4 3 8 36 2 4 1 5 1 80 3 6 6 12 3 53 4 1 324 0 54 6 7 14 7 45 3 3 2 7 9 41 2 1 7 2 2 79 4 3 4 6 8 50 2 1 246 0 56 4 7 10 5 44 2 2 9 7 6 37 4 1 8 2 3 76 9 1 8 2 9 62 1 1 321 0 58 5 2 9 2 56 2 0 6 1 6 35 6 2 1 2 6 80 2 4 6 7 7 60 3 1 413 0 59 4 0 7 7 51 4 1 5 3 5 43 5 1 7 2 0 85 0 2 4 4 2 57 9 1 447 0 61 3 0 7 7 38 9 1 9 5 0 36 9 1 2 1 4 84 4 1 1 2 7 42 7 1 169 0 51 2 4 5 2 45 2 2 0 4 3 47 1 0 7 0 7 92 9 0 4 1 0 36 8 1 413 0 64 2 6 5 6 45 9 0 9 2 3 38 5 1 2 1 5 79 3 1 7 3 3 51 1 1 297 0 54 2 5 6 0 41 4 1 3 3 5 36 2 0 7 1 0 69 0 1 3 2 6 48 2 1 143 0 52 2 2 4 9 43 8 0 6 2 1 29 1 0 6 1 0 64 0 1 5 2 8 54 8 1 125 0 50 2 1 3 6 57 9 0 4 1 0 43 8 0 7 0 9 72 7 1 7 2 6 63 4 1 468 0 64 2 0 5 0 40 0 0 0 1 0 0 0 0 0 0 0 0 0 2 0 4 0 50 0 0 800 0 40 1 3 2 5 49 3 0 4 1 1 40 0 0 4 0 5 80 0 0 8 1 5 56 1 1 324 0 58 1 1 3 5 30 8 0 1 1 3 10 0 0 7 0 7 90 9 0 9 2 1 43 8 0 846 0 33 0 7 2 2 30 8 0 2 0 3 50 0 0 8 1 0 83 3 0 5 1 8 27 3 1', '077 0 35 0 6 1 5 41 7 0 0 0 1 33 3 0 6 0 9 61 1 0 6 1 5 42 1 1 217 0 43 0 1 0 8 16 7 0 0 0 6 0 0 0 3 0 3 100 0 0 1 0 1 100 0 0 667 0 17 0 0 4 0 0 0 0 0 2 0 0 0 0 0 0 0 0 0 0 0 2 0 0 0 0 000 0 00 0 0 1 0 0 0 0 0 0 0 0 0 0 0 0 0 0 0 0 0 1 0 0 0 0 000 0 00 42 8 87 8 48 8 12 3 32 3 38 1 18 1 23 6 76 7 30 5 55 5 55 0 1 321 0 56 midseason trades kira lewis jr 1 gp tor statistics updated nightly glossary gp games played gs games started min minutes per game pts points per game offensive rebounds per game dr defensive rebounds per game reb rebounds per game ast assists per game stl steals per game blk blocks per game turnovers per game pf fouls per game ast assist turnover ratio fgm average field goals made fga average field goals attempted fg field goal percentage 3pm average 3 point field goals made 3pa average 3 point field goals attempted 3p 3 point field goal percentage ftm average free throws made fta average free throws attempted ft free throw percentage 2pm 2 point field goals made per game 2pa 2 point field goals attempted per game 2p 2 point field goal percentage sc eff scoring efficiency sh eff shooting efficiency terms use privacy policy us state privacy rights children online privacy policy interest based ads nielsen measurement sell share personal information contact us disney ad sales site work espn corrections espn bet operated penn entertainment inc subsidiaries penn espn bet available states penn licensed offer sports wagering must 21 wager someone know gambling problem wants help call 1 800 gambler copyright 2024 espn enterprises inc rights reserved']\n",
      "Action: 46, Reward: [[0.832167  ]\n",
      " [0.41810304]\n",
      " [1.1148189 ]\n",
      " [0.62336254]], Done: False, Info: False\n"
     ]
    }
   ],
   "source": [
    "\n",
    "obs = env.reset()  # Reset the environment\n",
    "done = False\n",
    "x = ''\n",
    "while not done:\n",
    "    action = env.action_space.sample()  # Choose a random action\n",
    "    obs, reward, done, info = env.step(action)  # Apply the action\n",
    "    print(f\"Action: {action}, Reward: {reward}, Done: {done}, Info: {info}\")\n",
    "    break"
   ]
  },
  {
   "cell_type": "code",
   "execution_count": 5,
   "metadata": {},
   "outputs": [
    {
     "data": {
      "text/plain": [
       "''"
      ]
     },
     "execution_count": 5,
     "metadata": {},
     "output_type": "execute_result"
    }
   ],
   "source": [
    "x"
   ]
  },
  {
   "cell_type": "code",
   "execution_count": 6,
   "metadata": {},
   "outputs": [
    {
     "ename": "IndexError",
     "evalue": "string index out of range",
     "output_type": "error",
     "traceback": [
      "\u001b[1;31m---------------------------------------------------------------------------\u001b[0m",
      "\u001b[1;31mIndexError\u001b[0m                                Traceback (most recent call last)",
      "Cell \u001b[1;32mIn[6], line 2\u001b[0m\n\u001b[0;32m      1\u001b[0m \u001b[38;5;66;03m# len(x)\u001b[39;00m\n\u001b[1;32m----> 2\u001b[0m \u001b[43mx\u001b[49m\u001b[43m[\u001b[49m\u001b[38;5;241;43m3\u001b[39;49m\u001b[43m]\u001b[49m\n",
      "\u001b[1;31mIndexError\u001b[0m: string index out of range"
     ]
    }
   ],
   "source": [
    "# len(x)\n",
    "x[3]"
   ]
  },
  {
   "cell_type": "code",
   "execution_count": 6,
   "metadata": {},
   "outputs": [],
   "source": [
    "import pickle\n",
    "with open(\"doc_emb.pkl\",'rb') as file:\n",
    "    doc_emb = pickle.load(file)\n",
    "    \n",
    "with open(\"query.pkl\",'rb') as file:\n",
    "    query = pickle.load(file)"
   ]
  },
  {
   "cell_type": "code",
   "execution_count": 10,
   "metadata": {},
   "outputs": [],
   "source": [
    "a = doc_emb[0]"
   ]
  },
  {
   "cell_type": "code",
   "execution_count": 15,
   "metadata": {},
   "outputs": [
    {
     "data": {
      "text/plain": [
       "array([[-0.02729641, -0.06921042, -0.02292343, ..., -0.00768987,\n",
       "        -0.07832648, -0.00889415],\n",
       "       [-0.01333874, -0.00622512, -0.06101113, ..., -0.00931067,\n",
       "        -0.04527349, -0.01860411],\n",
       "       [ 0.01568663, -0.02188834, -0.05950418, ..., -0.03068426,\n",
       "        -0.04333907, -0.05077551],\n",
       "       [-0.02461003, -0.04585826, -0.13070355, ..., -0.07408798,\n",
       "        -0.07366109, -0.03766491]], dtype=float32)"
      ]
     },
     "execution_count": 15,
     "metadata": {},
     "output_type": "execute_result"
    }
   ],
   "source": [
    "query"
   ]
  },
  {
   "cell_type": "code",
   "execution_count": 14,
   "metadata": {},
   "outputs": [
    {
     "data": {
      "text/plain": [
       "array([-7.40856975e-02,  9.26612969e-03,  3.26922424e-02, -6.49216119e-03,\n",
       "        9.04874783e-03, -6.71245903e-02,  1.75260261e-01,  3.44187766e-02,\n",
       "        1.51931345e-02, -3.81899551e-02, -6.41652122e-02, -1.25884861e-02,\n",
       "        2.31900103e-02,  1.07572146e-03,  6.98240995e-02,  2.72525623e-02,\n",
       "       -8.67907777e-02, -5.77719230e-03, -7.16594607e-02,  3.03879604e-02,\n",
       "       -1.47085741e-01,  7.23291859e-02, -1.10948114e-02, -6.86883985e-04,\n",
       "       -3.48894186e-02, -6.86990656e-03, -1.03793405e-02, -2.62725372e-02,\n",
       "        6.17748797e-02, -4.13938500e-02, -3.20653804e-02,  1.83474610e-03,\n",
       "        6.76905438e-02,  7.44296703e-04, -1.71461254e-02, -2.48091221e-02,\n",
       "       -1.40695563e-02, -6.13951124e-02,  7.21983984e-02,  6.04976043e-02,\n",
       "        3.92866097e-02, -2.61628274e-02,  2.21649352e-02,  7.46596456e-02,\n",
       "        9.60129946e-02, -1.18583739e-01, -8.85697640e-03, -6.62836432e-02,\n",
       "       -7.93788210e-03, -5.47165871e-02,  1.73085164e-02, -1.31182116e-03,\n",
       "        2.99289767e-02, -4.68785651e-02,  1.46248545e-02,  5.74163347e-02,\n",
       "       -3.29358466e-02, -8.08114000e-03,  4.04789224e-02, -1.68910064e-02,\n",
       "        7.00505525e-02,  3.63704823e-02, -1.16856068e-01,  4.09787744e-02,\n",
       "        8.31193291e-03,  5.52924983e-02,  1.86935235e-02,  2.24795323e-02,\n",
       "       -1.90043624e-03,  5.12317792e-02,  5.26525546e-03,  5.57341147e-03,\n",
       "       -6.07880615e-02, -7.11077601e-02,  2.81244349e-02,  3.48108076e-02,\n",
       "        3.33040692e-02,  2.53840685e-02,  1.98701248e-02,  7.11317360e-02,\n",
       "        5.76692708e-02, -3.49635147e-02, -6.34690076e-02, -2.29984000e-02,\n",
       "        2.62868106e-02, -2.41962504e-02,  7.77395219e-02,  4.73367646e-02,\n",
       "       -3.55743505e-02,  4.14875410e-02, -2.21897457e-02, -6.27341866e-02,\n",
       "        7.33545870e-02,  2.92069260e-02, -3.99136879e-02, -2.69794986e-02,\n",
       "       -3.36878235e-04,  6.35516793e-02, -1.02738641e-01,  2.27584228e-01,\n",
       "        1.17658097e-02, -5.35926670e-02,  8.02590251e-02,  3.19007747e-02,\n",
       "        3.41782644e-02, -2.07946505e-02, -6.49249628e-02,  1.07020251e-02,\n",
       "       -2.04498339e-02, -1.88212004e-02, -6.89155087e-02, -1.12300934e-02,\n",
       "       -6.05936395e-03,  6.26016594e-03,  1.45603279e-02,  5.57889305e-02,\n",
       "        2.84526367e-02,  4.17331867e-02,  1.74672715e-02, -4.17214148e-02,\n",
       "       -2.42850054e-02,  3.32503319e-02, -1.65690074e-03,  6.88769147e-02,\n",
       "        2.00731400e-02, -5.91677427e-02,  1.50730554e-02, -4.29891031e-33,\n",
       "       -1.52274771e-02, -4.55810083e-03,  2.80948766e-02,  2.29666126e-03,\n",
       "       -2.25300156e-02,  3.11013088e-02, -8.69890302e-03, -4.10446264e-02,\n",
       "       -5.25056049e-02,  4.06287657e-03, -8.27608258e-03,  3.17798369e-02,\n",
       "       -1.95896029e-02,  2.56997328e-02,  9.93938372e-02,  1.34150963e-02,\n",
       "       -1.27112539e-03, -1.35773392e-02, -7.58474097e-02, -1.15906643e-02,\n",
       "        3.00580543e-03,  1.17181044e-03,  1.89369861e-02, -5.31165674e-02,\n",
       "       -4.59426716e-02, -4.11711708e-02,  1.09298935e-03, -9.20628980e-02,\n",
       "        2.99168359e-02,  4.07974757e-02, -1.43683562e-02, -1.15324873e-02,\n",
       "       -7.69231608e-03, -4.27117199e-02, -3.92045043e-02, -7.10887760e-02,\n",
       "        6.18374050e-02, -4.90042903e-02, -5.07200025e-02,  6.71614558e-02,\n",
       "       -5.09590022e-02, -3.58199403e-02, -3.96259204e-02,  3.81185971e-02,\n",
       "       -1.67502426e-02,  6.15709983e-02,  1.14540365e-02,  1.58592984e-02,\n",
       "       -4.97940667e-02,  1.40054654e-02, -2.29709446e-02, -6.52975217e-03,\n",
       "       -5.51966839e-02,  6.77641332e-02, -4.63024154e-02, -1.47177400e-02,\n",
       "       -4.35223477e-03, -6.35859445e-02,  3.47966403e-02,  1.91836283e-02,\n",
       "       -2.18128283e-02,  1.02153011e-01, -8.46971124e-02,  5.19314036e-02,\n",
       "       -3.17938812e-02,  2.13452312e-03, -1.11831923e-03,  3.13823414e-03,\n",
       "        7.65769407e-02, -5.27821667e-02, -3.41073200e-02,  9.05770622e-03,\n",
       "        7.89520293e-02, -4.22705757e-03, -6.32200576e-03, -7.57572940e-03,\n",
       "       -4.13144343e-02,  6.64118081e-02, -1.58845596e-02, -1.59811247e-02,\n",
       "       -4.48217615e-03, -6.41827434e-02, -7.75076449e-03,  6.47129957e-03,\n",
       "        7.85078928e-02, -1.86142698e-02, -3.46231647e-02,  1.38151534e-02,\n",
       "        4.74746786e-02, -8.04121867e-02, -1.25915930e-02,  3.75711285e-02,\n",
       "        5.28950728e-02, -1.52483617e-03, -4.18407237e-03,  2.14814374e-33,\n",
       "       -2.46739406e-02,  2.40083095e-02,  3.47206853e-02,  7.90011138e-02,\n",
       "       -1.47115821e-02,  1.88959911e-02,  4.50509042e-02, -4.21048608e-03,\n",
       "        2.28755306e-02,  2.90325340e-02,  3.76965734e-03, -6.26903847e-02,\n",
       "       -6.54589711e-03,  2.05428116e-02,  3.98095548e-02,  6.67227730e-02,\n",
       "        8.03635195e-02,  5.54461628e-02, -3.04575413e-02, -5.44259250e-02,\n",
       "       -4.46151905e-02, -4.86839265e-02,  1.29429810e-03, -3.28207314e-02,\n",
       "       -3.04366611e-02,  4.85603064e-02,  6.75016046e-02,  9.62406471e-02,\n",
       "       -1.11334622e-02,  3.48037966e-02,  1.43425658e-01, -1.25916660e-01,\n",
       "       -7.58542940e-02, -4.99988981e-02,  5.13661765e-02,  6.20585866e-02,\n",
       "       -4.71019261e-02, -3.90552618e-02,  3.19277123e-02, -3.65571342e-02,\n",
       "       -1.22604314e-02, -2.17447635e-02, -5.73913269e-02,  8.62758532e-02,\n",
       "       -1.55435856e-02,  1.00280996e-03,  5.61261438e-02,  3.88457924e-02,\n",
       "        1.17411315e-02,  8.43731463e-02, -5.55785149e-02, -8.54420215e-02,\n",
       "       -4.51673642e-02, -2.07059458e-02, -4.65870239e-02,  4.96965386e-02,\n",
       "       -6.18266985e-02,  7.76530951e-02,  1.34469178e-02,  3.93462479e-02,\n",
       "        6.19772691e-05,  3.30475830e-02, -5.69703057e-02,  4.09433842e-02,\n",
       "        1.98624544e-02, -5.11293933e-02,  2.03940999e-02, -6.90329298e-02,\n",
       "       -5.43021830e-03, -5.82217649e-02,  7.50320703e-02, -6.81740865e-02,\n",
       "       -1.74153611e-01,  1.84997115e-02, -1.14800525e-03, -4.01049256e-02,\n",
       "       -1.97975542e-02,  3.58949304e-02, -7.94375464e-02, -7.07071126e-02,\n",
       "       -5.59285935e-03, -2.26150732e-02,  9.03190598e-02,  5.28345862e-03,\n",
       "       -4.62808497e-02, -2.46716496e-02,  2.35846303e-02,  9.35609080e-03,\n",
       "       -6.91797733e-02,  3.40570845e-02, -6.63503679e-03,  8.66328105e-02,\n",
       "        1.14826851e-01, -9.84757841e-02,  1.09621016e-02, -1.51818877e-08,\n",
       "       -1.90491248e-02,  2.16646735e-02, -9.49891098e-03, -1.56636555e-02,\n",
       "        2.17535850e-02,  3.14882509e-02, -6.82967901e-02, -3.76718268e-02,\n",
       "        9.81935486e-03, -3.04589178e-02,  1.69977888e-01,  1.23034734e-02,\n",
       "       -1.28978351e-02, -1.84451342e-02,  1.17437966e-01,  1.44717796e-02,\n",
       "       -3.16104628e-02, -2.57968605e-02, -2.18819231e-02, -1.27943670e-02,\n",
       "        7.55257830e-02,  2.14024708e-02,  1.40961073e-02, -4.71367538e-02,\n",
       "       -1.72367133e-02,  2.39675697e-02, -4.08936758e-03,  1.32554397e-02,\n",
       "        3.97517756e-02,  4.94250003e-03, -1.04644410e-02,  7.67999142e-02,\n",
       "       -5.72264194e-02, -1.12480326e-02, -2.37104408e-02, -7.96089843e-02,\n",
       "       -6.80810120e-03, -3.14584635e-02,  4.44201723e-04, -1.29804565e-02,\n",
       "       -4.10285816e-02,  1.90496165e-02,  2.77861487e-02,  3.89475673e-02,\n",
       "       -6.66433796e-02,  1.10386219e-02, -7.47324675e-02,  1.00581041e-02,\n",
       "       -1.47225140e-02, -6.35276362e-02,  2.75892206e-02, -5.33779450e-02,\n",
       "        7.93857407e-03,  1.36690900e-01,  1.16570011e-01, -7.91818835e-03,\n",
       "        5.96407764e-02, -2.30841246e-02,  4.71339747e-02, -1.68234874e-02,\n",
       "        1.69982076e-01,  2.66606547e-02,  1.88994985e-02, -8.23881999e-02],\n",
       "      dtype=float32)"
      ]
     },
     "execution_count": 14,
     "metadata": {},
     "output_type": "execute_result"
    }
   ],
   "source": [
    "a"
   ]
  },
  {
   "cell_type": "code",
   "execution_count": 11,
   "metadata": {},
   "outputs": [
    {
     "data": {
      "text/plain": [
       "tensor([[0.0907],\n",
       "        [0.0880],\n",
       "        [0.1807],\n",
       "        [0.1434]])"
      ]
     },
     "execution_count": 11,
     "metadata": {},
     "output_type": "execute_result"
    }
   ],
   "source": [
    "from sentence_transformers import SentenceTransformer, util\n",
    "\n",
    "util.pytorch_cos_sim(query, a)"
   ]
  },
  {
   "cell_type": "code",
   "execution_count": null,
   "metadata": {},
   "outputs": [],
   "source": []
  },
  {
   "cell_type": "code",
   "execution_count": 9,
   "metadata": {},
   "outputs": [],
   "source": [
    "a = ['new orleans pelicans 2023 24 nba regular season stats espn skip main content skip navigation espn nfl nfl nba nba ncaam ncaam ncaaw ncaaw nhl nhl soccer soccer sports sports espn plus espn bet watch watch fantasy fantasy espn espn search new orleans pelicans follow 39 26 1st southwest division home stats schedule roster depth injuries transactions tickets external link new orleans pelicans stats 2023 24 nba teams atlanta hawks boston celtics brooklyn nets charlotte hornets chicago bulls cleveland cavaliers dallas mavericks denver nuggets detroit pistons golden state warriors houston rockets indiana pacers la clippers los angeles lakers memphis grizzlies miami heat milwaukee bucks minnesota timberwolves new york knicks oklahoma city thunder orlando magic philadelphia 76ers phoenix suns portland trail blazers sacramento kings san antonio spurs toronto raptors utah jazz washington wizards hidden 2023 24 regular season 2022 23 regular season 2021 22 postseason 2021 22 regular season 2020 21 regular season 2019 20 regular season 2018 19 regular season 2017 18 postseason 2017 18 regular season 2016 17 regular season 2015 16 regular season 2014 15 postseason 2014 15 regular season 2013 14 regular season 2012 13 regular season 2011 12 regular season 2010 11 postseason 2010 11 regular season 2009 10 regular season 2008 09 postseason 2008 09 regular season 2007 08 postseason 2007 08 regular season 2006 07 regular season 2005 06 regular season 2004 05 regular season 2003 04 postseason 2003 04 regular season 2002 03 postseason 2002 03 regular season hidden splits home away boston celtics brooklyn nets new york knicks philadelphia 76ers toronto raptors chicago bulls cleveland cavaliers detroit pistons indiana pacers milwaukee bucks atlanta hawks charlotte hornets miami heat orlando magic washington wizards denver nuggets minnesota timberwolves oklahoma city thunder portland trail blazers utah jazz golden state warriors la clippers los angeles lakers phoenix suns sacramento kings dallas mavericks houston rockets memphis grizzlies new orleans pelicans san antonio spurs october november december january february march april atlantic division central division pacific division southeast division southwest division northwest division eastern conference western conference pre star post star 0 days rest 1 day rest 2 days rest 3 days rest hidden team leaders points zion williamson pf 22 3 rebounds jonas valanciunas c 9 5 assists brandon ingram sf 5 8 steals dyson daniels g 1 4 blocks jonas valanciunas c 1 0 player stats splits name zion williamson pf brandon ingram sf cj mccollum sg trey murphy iii sg jonas valanciunas c herbert jones sf jordan hawkins g matt ryan f naji marshall sf jose alvarado pg dyson daniels g larry nance jr pf izaiah brockington g jeremiah robinson earl f kira lewis jr pg dereon seabron g cody zeller c e j liddell f kaiser gates f jalen crutcher g total gp gs min pts dr reb ast stl blk pf ast 54 54 30 8 22 3 1 8 3 9 5 7 5 1 0 9 0 6 2 5 2 2 2 0 59 59 33 2 21 3 0', '7 4 4 5 1 5 8 0 8 0 6 2 6 2 3 2 2 49 49 31 2 18 3 0 6 3 7 4 3 4 3 1 0 0 7 1 6 2 0 2 8 40 10 27 2 13 9 0 6 3 5 4 2 1 9 0 8 0 5 0 5 1 3 3 8 65 65 24 8 13 0 2 6 6 9 9 5 2 2 0 4 1 0 1 4 2 8 1 6 60 60 29 3 11 1 1 1 2 5 3 6 2 5 1 3 0 9 1 2 2 9 2 1 56 10 19 3 9 0 0 5 2 0 2 5 1 2 0 3 0 1 0 7 1 2 1 7 20 1 17 7 7 4 0 3 1 7 2 0 0 8 0 3 0 1 0 9 1 5 0 9 53 1 19 0 7 2 0 9 2 7 3 6 2 0 0 7 0 2 1 1 1 4 1 9 44 0 17 3 6 9 0 4 1 8 2 2 2 0 1 1 0 3 0 8 1 4 2 6 52 15 21 9 5 5 1 0 2 7 3 7 2 6 1 4 0 4 1 0 1 6 2 6 47 0 18 7 5 3 1 4 3 6 5 1 1 6 1 0 0 4 0 9 1 5 1 9 1 0 3 0 4 0 1 0 1 0 2 0 0 0 0 0 0 0 0 0 0 0 0 0 28 1 9 5 3 4 0 6 1 5 2 1 0 5 0 3 0 1 0 4 0 6 1 1 15 0 9 6 2 9 0 3 0 7 0 9 1 2 0 3 0 1 0 5 0 5 2 3 6 0 9 2 2 3 0 2 1 0 1 2 0 8 0 3 0 2 0 0 0 7 inf 39 0 7 7 1 9 1 2 1 6 2 7 0 9 0 2 0 1 0 4 1 1 2 4 8 0 2 9 0 5 0 0 0 6 0 6 0 1 0 3 0 3 0 3 0 3 0 5 1 0 7 0 0 0 0 0 1 0 1 0 0 0 0 0 0 0 0 0 0 0 0 0 1 0 3 0 0 0 0 0 0 0 0 0 0 0 0 0 0 0 0 0 0 0 0 0 65 116 1 10 8 33 9 44 7 27 0 8 2 5 0 12 7 18 8 2 1 shooting stats splits name zion williamson pf brandon ingram sf cj mccollum sg trey murphy iii sg jonas valanciunas c herbert jones sf jordan hawkins g matt ryan f naji marshall', 'sf jose alvarado pg dyson daniels g larry nance jr pf izaiah brockington g jeremiah robinson earl f kira lewis jr pg dereon seabron g cody zeller c e j liddell f kaiser gates f jalen crutcher g total fgm fga fg 3pm 3pa 3p ftm fta ft 2pm 2pa 2p sc eff sh eff 8 8 15 2 57 8 0 1 0 3 35 7 4 7 6 7 69 7 8 7 14 9 58 2 1 471 0 58 7 9 16 1 49 3 1 4 3 8 36 2 4 1 5 1 80 3 6 6 12 3 53 4 1 324 0 54 6 7 14 7 45 3 3 2 7 9 41 2 1 7 2 2 79 4 3 4 6 8 50 2 1 246 0 56 4 7 10 5 44 2 2 9 7 6 37 4 1 8 2 3 76 9 1 8 2 9 62 1 1 321 0 58 5 2 9 2 56 2 0 6 1 6 35 6 2 1 2 6 80 2 4 6 7 7 60 3 1 413 0 59 4 0 7 7 51 4 1 5 3 5 43 5 1 7 2 0 85 0 2 4 4 2 57 9 1 447 0 61 3 0 7 7 38 9 1 9 5 0 36 9 1 2 1 4 84 4 1 1 2 7 42 7 1 169 0 51 2 4 5 2 45 2 2 0 4 3 47 1 0 7 0 7 92 9 0 4 1 0 36 8 1 413 0 64 2 6 5 6 45 9 0 9 2 3 38 5 1 2 1 5 79 3 1 7 3 3 51 1 1 297 0 54 2 5 6 0 41 4 1 3 3 5 36 2 0 7 1 0 69 0 1 3 2 6 48 2 1 143 0 52 2 2 4 9 43 8 0 6 2 1 29 1 0 6 1 0 64 0 1 5 2 8 54 8 1 125 0 50 2 1 3 6 57 9 0 4 1 0 43 8 0 7 0 9 72 7 1 7 2 6 63 4 1 468 0 64 2 0 5 0 40 0 0 0 1 0 0 0 0 0 0 0 0 0 2 0 4 0 50 0 0 800 0 40 1 3 2 5 49 3 0 4 1 1 40 0 0 4 0 5 80 0 0 8 1 5 56 1 1 324 0 58 1 1 3 5 30 8 0 1 1 3 10 0 0 7 0 7 90 9 0 9 2 1 43 8 0 846 0 33 0 7 2 2 30 8 0 2 0 3 50 0 0 8 1 0 83 3 0 5 1 8 27 3 1', '077 0 35 0 6 1 5 41 7 0 0 0 1 33 3 0 6 0 9 61 1 0 6 1 5 42 1 1 217 0 43 0 1 0 8 16 7 0 0 0 6 0 0 0 3 0 3 100 0 0 1 0 1 100 0 0 667 0 17 0 0 4 0 0 0 0 0 2 0 0 0 0 0 0 0 0 0 0 0 2 0 0 0 0 000 0 00 0 0 1 0 0 0 0 0 0 0 0 0 0 0 0 0 0 0 0 0 1 0 0 0 0 000 0 00 42 8 87 8 48 8 12 3 32 3 38 1 18 1 23 6 76 7 30 5 55 5 55 0 1 321 0 56 midseason trades kira lewis jr 1 gp tor statistics updated nightly glossary gp games played gs games started min minutes per game pts points per game offensive rebounds per game dr defensive rebounds per game reb rebounds per game ast assists per game stl steals per game blk blocks per game turnovers per game pf fouls per game ast assist turnover ratio fgm average field goals made fga average field goals attempted fg field goal percentage 3pm average 3 point field goals made 3pa average 3 point field goals attempted 3p 3 point field goal percentage ftm average free throws made fta average free throws attempted ft free throw percentage 2pm 2 point field goals made per game 2pa 2 point field goals attempted per game 2p 2 point field goal percentage sc eff scoring efficiency sh eff shooting efficiency terms use privacy policy us state privacy rights children online privacy policy interest based ads nielsen measurement sell share personal information contact us disney ad sales site work espn corrections espn bet operated penn entertainment inc subsidiaries penn espn bet available states penn licensed offer sports wagering must 21 wager someone know gambling problem wants help call 1 800 gambler copyright 2024 espn enterprises inc rights reserved']\n"
   ]
  },
  {
   "cell_type": "code",
   "execution_count": 10,
   "metadata": {},
   "outputs": [
    {
     "data": {
      "text/plain": [
       "['new orleans pelicans 2023 24 nba regular season stats espn skip main content skip navigation espn nfl nfl nba nba ncaam ncaam ncaaw ncaaw nhl nhl soccer soccer sports sports espn plus espn bet watch watch fantasy fantasy espn espn search new orleans pelicans follow 39 26 1st southwest division home stats schedule roster depth injuries transactions tickets external link new orleans pelicans stats 2023 24 nba teams atlanta hawks boston celtics brooklyn nets charlotte hornets chicago bulls cleveland cavaliers dallas mavericks denver nuggets detroit pistons golden state warriors houston rockets indiana pacers la clippers los angeles lakers memphis grizzlies miami heat milwaukee bucks minnesota timberwolves new york knicks oklahoma city thunder orlando magic philadelphia 76ers phoenix suns portland trail blazers sacramento kings san antonio spurs toronto raptors utah jazz washington wizards hidden 2023 24 regular season 2022 23 regular season 2021 22 postseason 2021 22 regular season 2020 21 regular season 2019 20 regular season 2018 19 regular season 2017 18 postseason 2017 18 regular season 2016 17 regular season 2015 16 regular season 2014 15 postseason 2014 15 regular season 2013 14 regular season 2012 13 regular season 2011 12 regular season 2010 11 postseason 2010 11 regular season 2009 10 regular season 2008 09 postseason 2008 09 regular season 2007 08 postseason 2007 08 regular season 2006 07 regular season 2005 06 regular season 2004 05 regular season 2003 04 postseason 2003 04 regular season 2002 03 postseason 2002 03 regular season hidden splits home away boston celtics brooklyn nets new york knicks philadelphia 76ers toronto raptors chicago bulls cleveland cavaliers detroit pistons indiana pacers milwaukee bucks atlanta hawks charlotte hornets miami heat orlando magic washington wizards denver nuggets minnesota timberwolves oklahoma city thunder portland trail blazers utah jazz golden state warriors la clippers los angeles lakers phoenix suns sacramento kings dallas mavericks houston rockets memphis grizzlies new orleans pelicans san antonio spurs october november december january february march april atlantic division central division pacific division southeast division southwest division northwest division eastern conference western conference pre star post star 0 days rest 1 day rest 2 days rest 3 days rest hidden team leaders points zion williamson pf 22 3 rebounds jonas valanciunas c 9 5 assists brandon ingram sf 5 8 steals dyson daniels g 1 4 blocks jonas valanciunas c 1 0 player stats splits name zion williamson pf brandon ingram sf cj mccollum sg trey murphy iii sg jonas valanciunas c herbert jones sf jordan hawkins g matt ryan f naji marshall sf jose alvarado pg dyson daniels g larry nance jr pf izaiah brockington g jeremiah robinson earl f kira lewis jr pg dereon seabron g cody zeller c e j liddell f kaiser gates f jalen crutcher g total gp gs min pts dr reb ast stl blk pf ast 54 54 30 8 22 3 1 8 3 9 5 7 5 1 0 9 0 6 2 5 2 2 2 0 59 59 33 2 21 3 0',\n",
       " '7 4 4 5 1 5 8 0 8 0 6 2 6 2 3 2 2 49 49 31 2 18 3 0 6 3 7 4 3 4 3 1 0 0 7 1 6 2 0 2 8 40 10 27 2 13 9 0 6 3 5 4 2 1 9 0 8 0 5 0 5 1 3 3 8 65 65 24 8 13 0 2 6 6 9 9 5 2 2 0 4 1 0 1 4 2 8 1 6 60 60 29 3 11 1 1 1 2 5 3 6 2 5 1 3 0 9 1 2 2 9 2 1 56 10 19 3 9 0 0 5 2 0 2 5 1 2 0 3 0 1 0 7 1 2 1 7 20 1 17 7 7 4 0 3 1 7 2 0 0 8 0 3 0 1 0 9 1 5 0 9 53 1 19 0 7 2 0 9 2 7 3 6 2 0 0 7 0 2 1 1 1 4 1 9 44 0 17 3 6 9 0 4 1 8 2 2 2 0 1 1 0 3 0 8 1 4 2 6 52 15 21 9 5 5 1 0 2 7 3 7 2 6 1 4 0 4 1 0 1 6 2 6 47 0 18 7 5 3 1 4 3 6 5 1 1 6 1 0 0 4 0 9 1 5 1 9 1 0 3 0 4 0 1 0 1 0 2 0 0 0 0 0 0 0 0 0 0 0 0 0 28 1 9 5 3 4 0 6 1 5 2 1 0 5 0 3 0 1 0 4 0 6 1 1 15 0 9 6 2 9 0 3 0 7 0 9 1 2 0 3 0 1 0 5 0 5 2 3 6 0 9 2 2 3 0 2 1 0 1 2 0 8 0 3 0 2 0 0 0 7 inf 39 0 7 7 1 9 1 2 1 6 2 7 0 9 0 2 0 1 0 4 1 1 2 4 8 0 2 9 0 5 0 0 0 6 0 6 0 1 0 3 0 3 0 3 0 3 0 5 1 0 7 0 0 0 0 0 1 0 1 0 0 0 0 0 0 0 0 0 0 0 0 0 1 0 3 0 0 0 0 0 0 0 0 0 0 0 0 0 0 0 0 0 0 0 0 0 65 116 1 10 8 33 9 44 7 27 0 8 2 5 0 12 7 18 8 2 1 shooting stats splits name zion williamson pf brandon ingram sf cj mccollum sg trey murphy iii sg jonas valanciunas c herbert jones sf jordan hawkins g matt ryan f naji marshall',\n",
       " 'sf jose alvarado pg dyson daniels g larry nance jr pf izaiah brockington g jeremiah robinson earl f kira lewis jr pg dereon seabron g cody zeller c e j liddell f kaiser gates f jalen crutcher g total fgm fga fg 3pm 3pa 3p ftm fta ft 2pm 2pa 2p sc eff sh eff 8 8 15 2 57 8 0 1 0 3 35 7 4 7 6 7 69 7 8 7 14 9 58 2 1 471 0 58 7 9 16 1 49 3 1 4 3 8 36 2 4 1 5 1 80 3 6 6 12 3 53 4 1 324 0 54 6 7 14 7 45 3 3 2 7 9 41 2 1 7 2 2 79 4 3 4 6 8 50 2 1 246 0 56 4 7 10 5 44 2 2 9 7 6 37 4 1 8 2 3 76 9 1 8 2 9 62 1 1 321 0 58 5 2 9 2 56 2 0 6 1 6 35 6 2 1 2 6 80 2 4 6 7 7 60 3 1 413 0 59 4 0 7 7 51 4 1 5 3 5 43 5 1 7 2 0 85 0 2 4 4 2 57 9 1 447 0 61 3 0 7 7 38 9 1 9 5 0 36 9 1 2 1 4 84 4 1 1 2 7 42 7 1 169 0 51 2 4 5 2 45 2 2 0 4 3 47 1 0 7 0 7 92 9 0 4 1 0 36 8 1 413 0 64 2 6 5 6 45 9 0 9 2 3 38 5 1 2 1 5 79 3 1 7 3 3 51 1 1 297 0 54 2 5 6 0 41 4 1 3 3 5 36 2 0 7 1 0 69 0 1 3 2 6 48 2 1 143 0 52 2 2 4 9 43 8 0 6 2 1 29 1 0 6 1 0 64 0 1 5 2 8 54 8 1 125 0 50 2 1 3 6 57 9 0 4 1 0 43 8 0 7 0 9 72 7 1 7 2 6 63 4 1 468 0 64 2 0 5 0 40 0 0 0 1 0 0 0 0 0 0 0 0 0 2 0 4 0 50 0 0 800 0 40 1 3 2 5 49 3 0 4 1 1 40 0 0 4 0 5 80 0 0 8 1 5 56 1 1 324 0 58 1 1 3 5 30 8 0 1 1 3 10 0 0 7 0 7 90 9 0 9 2 1 43 8 0 846 0 33 0 7 2 2 30 8 0 2 0 3 50 0 0 8 1 0 83 3 0 5 1 8 27 3 1',\n",
       " '077 0 35 0 6 1 5 41 7 0 0 0 1 33 3 0 6 0 9 61 1 0 6 1 5 42 1 1 217 0 43 0 1 0 8 16 7 0 0 0 6 0 0 0 3 0 3 100 0 0 1 0 1 100 0 0 667 0 17 0 0 4 0 0 0 0 0 2 0 0 0 0 0 0 0 0 0 0 0 2 0 0 0 0 000 0 00 0 0 1 0 0 0 0 0 0 0 0 0 0 0 0 0 0 0 0 0 1 0 0 0 0 000 0 00 42 8 87 8 48 8 12 3 32 3 38 1 18 1 23 6 76 7 30 5 55 5 55 0 1 321 0 56 midseason trades kira lewis jr 1 gp tor statistics updated nightly glossary gp games played gs games started min minutes per game pts points per game offensive rebounds per game dr defensive rebounds per game reb rebounds per game ast assists per game stl steals per game blk blocks per game turnovers per game pf fouls per game ast assist turnover ratio fgm average field goals made fga average field goals attempted fg field goal percentage 3pm average 3 point field goals made 3pa average 3 point field goals attempted 3p 3 point field goal percentage ftm average free throws made fta average free throws attempted ft free throw percentage 2pm 2 point field goals made per game 2pa 2 point field goals attempted per game 2p 2 point field goal percentage sc eff scoring efficiency sh eff shooting efficiency terms use privacy policy us state privacy rights children online privacy policy interest based ads nielsen measurement sell share personal information contact us disney ad sales site work espn corrections espn bet operated penn entertainment inc subsidiaries penn espn bet available states penn licensed offer sports wagering must 21 wager someone know gambling problem wants help call 1 800 gambler copyright 2024 espn enterprises inc rights reserved']"
      ]
     },
     "execution_count": 10,
     "metadata": {},
     "output_type": "execute_result"
    }
   ],
   "source": [
    "a"
   ]
  },
  {
   "cell_type": "code",
   "execution_count": 11,
   "metadata": {},
   "outputs": [],
   "source": [
    "dataset = pd.read_parquet(\"./tests/dataset/Crag Splitted/crag_dataset_0.parquet\")  # Documents from dataset\n"
   ]
  },
  {
   "cell_type": "code",
   "execution_count": 21,
   "metadata": {},
   "outputs": [
    {
     "data": {
      "text/plain": [
       "\"what percentage of gross for pixar's 2020 movies came from outside the us and canada?\""
      ]
     },
     "execution_count": 21,
     "metadata": {},
     "output_type": "execute_result"
    }
   ],
   "source": [
    "dataset['query'].values[100]"
   ]
  }
 ],
 "metadata": {
  "kernelspec": {
   "display_name": "Python 3",
   "language": "python",
   "name": "python3"
  },
  "language_info": {
   "codemirror_mode": {
    "name": "ipython",
    "version": 3
   },
   "file_extension": ".py",
   "mimetype": "text/x-python",
   "name": "python",
   "nbconvert_exporter": "python",
   "pygments_lexer": "ipython3",
   "version": "3.11.2"
  }
 },
 "nbformat": 4,
 "nbformat_minor": 2
}
