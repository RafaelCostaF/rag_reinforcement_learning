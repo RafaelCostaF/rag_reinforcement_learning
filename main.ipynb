{
 "cells": [
  {
   "cell_type": "code",
   "execution_count": 1,
   "metadata": {},
   "outputs": [
    {
     "name": "stderr",
     "output_type": "stream",
     "text": [
      "[nltk_data] Downloading package stopwords to\n",
      "[nltk_data]     C:\\Users\\rafae\\AppData\\Roaming\\nltk_data...\n",
      "[nltk_data]   Package stopwords is already up-to-date!\n"
     ]
    }
   ],
   "source": [
    "from Functions.documents import load_documents\n",
    "from Functions.text import clear_text, remove_stopwords, split_text_into_chunks, remove_portuguese_accents\n",
    "\n",
    "\n",
    "\n",
    "DOCUMENT_PATHS = [\"./Documents/a (1).pdf\", \"./Documents/FAQ (1).pdf\"]\n",
    "CHUNK_SIZE = 500\n",
    "\n",
    "\n",
    "\n",
    "# BEGIN = Processing documents \n",
    "texts = load_documents(DOCUMENT_PATHS)\n",
    "cleaned_texts = [clear_text(text) for text in texts]\n",
    "no_stopwords_text = [remove_stopwords(text) for text in cleaned_texts]\n",
    "no_accents_portuguese = [remove_portuguese_accents(text) for text in no_stopwords_text]\n",
    "joined_texts = \" \".join(no_accents_portuguese)\n",
    "joined_texts = joined_texts.lower()\n",
    "text_chunks = split_text_into_chunks(joined_texts, chunk_size=CHUNK_SIZE)\n",
    "# END = Processing documents \n"
   ]
  },
  {
   "cell_type": "code",
   "execution_count": 2,
   "metadata": {},
   "outputs": [
    {
     "data": {
      "text/plain": [
       "22"
      ]
     },
     "execution_count": 2,
     "metadata": {},
     "output_type": "execute_result"
    }
   ],
   "source": [
    "len(text_chunks)"
   ]
  },
  {
   "cell_type": "code",
   "execution_count": 3,
   "metadata": {},
   "outputs": [
    {
     "data": {
      "text/plain": [
       "3894"
      ]
     },
     "execution_count": 3,
     "metadata": {},
     "output_type": "execute_result"
    }
   ],
   "source": [
    "len(text_chunks[0])"
   ]
  },
  {
   "cell_type": "markdown",
   "metadata": {},
   "source": [
    "import gym\n",
    "import numpy as np\n",
    "from gym import spaces\n",
    "from sentence_transformers import SentenceTransformer, util\n",
    "from Functions.documents import load_documents\n",
    "from Functions.text import clear_text, remove_stopwords, split_text_into_chunks"
   ]
  },
  {
   "cell_type": "code",
   "execution_count": 6,
   "metadata": {},
   "outputs": [
    {
     "name": "stderr",
     "output_type": "stream",
     "text": [
      "c:\\Users\\rafae\\AppData\\Local\\Programs\\Python\\Python311\\Lib\\site-packages\\huggingface_hub\\file_download.py:797: FutureWarning: `resume_download` is deprecated and will be removed in version 1.0.0. Downloads always resume when possible. If you want to force a new download, use `force_download=True`.\n",
      "  warnings.warn(\n",
      "c:\\Users\\rafae\\AppData\\Local\\Programs\\Python\\Python311\\Lib\\site-packages\\transformers\\utils\\generic.py:309: UserWarning: torch.utils._pytree._register_pytree_node is deprecated. Please use torch.utils._pytree.register_pytree_node instead.\n",
      "  _torch_pytree._register_pytree_node(\n"
     ]
    }
   ],
   "source": [
    "model = SentenceTransformer(\"all-MiniLM-L6-v2\")"
   ]
  },
  {
   "cell_type": "code",
   "execution_count": 8,
   "metadata": {},
   "outputs": [],
   "source": [
    "encoded = model.encode(text_chunks[0])"
   ]
  },
  {
   "cell_type": "code",
   "execution_count": 9,
   "metadata": {},
   "outputs": [],
   "source": [
    "not_encoded = text_chunks[0]"
   ]
  },
  {
   "cell_type": "code",
   "execution_count": 10,
   "metadata": {},
   "outputs": [
    {
     "data": {
      "text/plain": [
       "384"
      ]
     },
     "execution_count": 10,
     "metadata": {},
     "output_type": "execute_result"
    }
   ],
   "source": [
    "len(encoded)"
   ]
  },
  {
   "cell_type": "code",
   "execution_count": 11,
   "metadata": {},
   "outputs": [
    {
     "data": {
      "text/plain": [
       "3894"
      ]
     },
     "execution_count": 11,
     "metadata": {},
     "output_type": "execute_result"
    }
   ],
   "source": [
    "len(not_encoded)"
   ]
  },
  {
   "cell_type": "code",
   "execution_count": 12,
   "metadata": {},
   "outputs": [],
   "source": [
    "document_embeddings = [model.encode(chunk) for chunk in text_chunks] "
   ]
  },
  {
   "cell_type": "code",
   "execution_count": 39,
   "metadata": {},
   "outputs": [
    {
     "name": "stdout",
     "output_type": "stream",
     "text": [
      "monge:  0.034999999999999996\n",
      "cosine:  0.6149186938124421\n",
      "hamming:  0.09999999999999998\n"
     ]
    }
   ],
   "source": [
    "import textdistance\n",
    "# https://github.com/life4/textdistance?tab=readme-ov-file\n",
    "\n",
    "f1 = \"o carro está andando\"\n",
    "# f2 = \"o ônibus está em movimento\"\n",
    "f2 = \"o ônibus andando\"\n",
    "print(\"monge: \",textdistance.monge_elkan(f1,f2))\n",
    "print(\"cosine: \",textdistance.cosine(f1,f2))\n",
    "print(\"hamming: \",textdistance.hamming.normalized_similarity(f1,f2))"
   ]
  }
 ],
 "metadata": {
  "kernelspec": {
   "display_name": "Python 3",
   "language": "python",
   "name": "python3"
  },
  "language_info": {
   "codemirror_mode": {
    "name": "ipython",
    "version": 3
   },
   "file_extension": ".py",
   "mimetype": "text/x-python",
   "name": "python",
   "nbconvert_exporter": "python",
   "pygments_lexer": "ipython3",
   "version": "3.11.2"
  }
 },
 "nbformat": 4,
 "nbformat_minor": 2
}
