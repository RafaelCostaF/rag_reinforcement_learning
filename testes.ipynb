{
 "cells": [
  {
   "cell_type": "code",
   "execution_count": 9,
   "metadata": {},
   "outputs": [],
   "source": [
    "from Functions.documents import load_documents\n",
    "from Functions.text import clear_text, remove_stopwords, split_text_into_chunks\n",
    "\n",
    "document_paths = [\"./Documents/a (1).pdf\", \"./Documents/FAQ (1).pdf\"]\n",
    "\n",
    "texts = load_documents(document_paths)\n",
    "\n",
    "cleaned_texts = [clear_text(text) for text in texts]\n",
    "\n",
    "no_stopwords_text = [remove_stopwords(text) for text in cleaned_texts]\n",
    "\n",
    "joined_texts = \" \".join(no_stopwords_text)\n",
    "\n",
    "text_chunks = split_text_into_chunks(joined_texts)"
   ]
  },
  {
   "cell_type": "code",
   "execution_count": null,
   "metadata": {},
   "outputs": [],
   "source": []
  }
 ],
 "metadata": {
  "kernelspec": {
   "display_name": "RAG_RL_venv",
   "language": "python",
   "name": "python3"
  },
  "language_info": {
   "codemirror_mode": {
    "name": "ipython",
    "version": 3
   },
   "file_extension": ".py",
   "mimetype": "text/x-python",
   "name": "python",
   "nbconvert_exporter": "python",
   "pygments_lexer": "ipython3",
   "version": "3.13.0"
  }
 },
 "nbformat": 4,
 "nbformat_minor": 2
}
